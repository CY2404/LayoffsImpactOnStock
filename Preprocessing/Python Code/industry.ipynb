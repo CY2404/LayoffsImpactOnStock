{
 "cells": [
  {
   "cell_type": "code",
   "execution_count": 22,
   "id": "4a83a957",
   "metadata": {},
   "outputs": [],
   "source": [
    "import os\n",
    "import requests\n",
    "import numpy as np\n",
    "import pandas as pd\n",
    "import seaborn as sns"
   ]
  },
  {
   "cell_type": "code",
   "execution_count": 23,
   "id": "6992104c",
   "metadata": {},
   "outputs": [
    {
     "data": {
      "text/html": [
       "<div>\n",
       "<style scoped>\n",
       "    .dataframe tbody tr th:only-of-type {\n",
       "        vertical-align: middle;\n",
       "    }\n",
       "\n",
       "    .dataframe tbody tr th {\n",
       "        vertical-align: top;\n",
       "    }\n",
       "\n",
       "    .dataframe thead th {\n",
       "        text-align: right;\n",
       "    }\n",
       "</style>\n",
       "<table border=\"1\" class=\"dataframe\">\n",
       "  <thead>\n",
       "    <tr style=\"text-align: right;\">\n",
       "      <th></th>\n",
       "      <th>CompanyID</th>\n",
       "      <th>CompanyName</th>\n",
       "      <th>Description</th>\n",
       "      <th>SizeOfCompany</th>\n",
       "      <th>TotalEmployee</th>\n",
       "      <th>Location</th>\n",
       "      <th>IndustryID</th>\n",
       "      <th>RegionID</th>\n",
       "    </tr>\n",
       "  </thead>\n",
       "  <tbody>\n",
       "    <tr>\n",
       "      <th>0</th>\n",
       "      <td>6</td>\n",
       "      <td>Enphase Energy Inc</td>\n",
       "      <td>Energy</td>\n",
       "      <td>3150</td>\n",
       "      <td>3500</td>\n",
       "      <td>San Francisco Bay Area</td>\n",
       "      <td>I434</td>\n",
       "      <td>R1993</td>\n",
       "    </tr>\n",
       "    <tr>\n",
       "      <th>1</th>\n",
       "      <td>21</td>\n",
       "      <td>Etsy Inc</td>\n",
       "      <td>Retail</td>\n",
       "      <td>1820</td>\n",
       "      <td>2045</td>\n",
       "      <td>New York City</td>\n",
       "      <td>I395</td>\n",
       "      <td>R1046</td>\n",
       "    </tr>\n",
       "    <tr>\n",
       "      <th>2</th>\n",
       "      <td>56</td>\n",
       "      <td>Unity Software Inc</td>\n",
       "      <td>Other</td>\n",
       "      <td>6360</td>\n",
       "      <td>6625</td>\n",
       "      <td>San Francisco Bay Area</td>\n",
       "      <td>I078</td>\n",
       "      <td>R1993</td>\n",
       "    </tr>\n",
       "    <tr>\n",
       "      <th>3</th>\n",
       "      <td>91</td>\n",
       "      <td>Tripadvisor Inc</td>\n",
       "      <td>Travel</td>\n",
       "      <td>3000</td>\n",
       "      <td>3125</td>\n",
       "      <td>Boston</td>\n",
       "      <td>I522</td>\n",
       "      <td>R1084</td>\n",
       "    </tr>\n",
       "    <tr>\n",
       "      <th>4</th>\n",
       "      <td>311</td>\n",
       "      <td>SecureWorks Corp</td>\n",
       "      <td>Security</td>\n",
       "      <td>1700</td>\n",
       "      <td>2000</td>\n",
       "      <td>Atlanta</td>\n",
       "      <td>I890</td>\n",
       "      <td>R1428</td>\n",
       "    </tr>\n",
       "  </tbody>\n",
       "</table>\n",
       "</div>"
      ],
      "text/plain": [
       "   CompanyID         CompanyName Description  SizeOfCompany  TotalEmployee  \\\n",
       "0          6  Enphase Energy Inc      Energy           3150           3500   \n",
       "1         21            Etsy Inc      Retail           1820           2045   \n",
       "2         56  Unity Software Inc       Other           6360           6625   \n",
       "3         91     Tripadvisor Inc      Travel           3000           3125   \n",
       "4        311    SecureWorks Corp    Security           1700           2000   \n",
       "\n",
       "                 Location IndustryID RegionID  \n",
       "0  San Francisco Bay Area       I434    R1993  \n",
       "1           New York City       I395    R1046  \n",
       "2  San Francisco Bay Area       I078    R1993  \n",
       "3                  Boston       I522    R1084  \n",
       "4                 Atlanta       I890    R1428  "
      ]
     },
     "execution_count": 23,
     "metadata": {},
     "output_type": "execute_result"
    }
   ],
   "source": [
    "df = pd.read_csv(r'/Users/kanimozhivelusamy/Downloads/company_table.csv')\n",
    "\n",
    "df.head()"
   ]
  },
  {
   "cell_type": "code",
   "execution_count": 24,
   "id": "27228929",
   "metadata": {},
   "outputs": [
    {
     "name": "stdout",
     "output_type": "stream",
     "text": [
      "   IndustryID     Description  TotalEmployee\n",
      "0        I434          Energy           3500\n",
      "1        I395          Retail           2045\n",
      "2        I078           Other           6625\n",
      "3        I522          Travel           3125\n",
      "4        I890        Security           2000\n",
      "5        I711           Other          11580\n",
      "6        I424  Transportation          20077\n",
      "7        I674  Transportation            425\n",
      "8        I804       Education           2000\n",
      "9        I455        Consumer           1800\n",
      "10       I835         Finance           1500\n",
      "11       I398           Other           3125\n",
      "12       I688  Transportation           1091\n",
      "13       I686  Transportation           4123\n",
      "14       I243           Media           1200\n",
      "15       I633     Real Estate           2545\n",
      "16       I987  Transportation           7222\n",
      "17       I485          Retail         392000\n",
      "18       I875        Consumer          73615\n",
      "19       I711           Other          12500\n",
      "20       I813        Hardware          48000\n",
      "21       I844           Other           8667\n",
      "22       I546          Retail          12500\n",
      "23       I171         Finance          28571\n",
      "24       I644        Consumer         200000\n",
      "25       I398           Other         200000\n",
      "26       I317            Food          20833\n",
      "27       I498  Infrastructure          82000\n",
      "28       I235           Media          10000\n",
      "29       I958              HR          17500\n",
      "30       I125          Retail          17400\n"
     ]
    }
   ],
   "source": [
    "industry_data = df[['IndustryID', 'Description', 'TotalEmployee']]\n",
    "\n",
    "print(industry_data)"
   ]
  },
  {
   "cell_type": "code",
   "execution_count": 25,
   "id": "2d64bffc",
   "metadata": {},
   "outputs": [
    {
     "name": "stdout",
     "output_type": "stream",
     "text": [
      "   IndustryID    IndustryType  TotalWorkForce\n",
      "0        I434          Energy            3500\n",
      "1        I395          Retail            2045\n",
      "2        I078           Other            6625\n",
      "3        I522          Travel            3125\n",
      "4        I890        Security            2000\n",
      "5        I711           Other           11580\n",
      "6        I424  Transportation           20077\n",
      "7        I674  Transportation             425\n",
      "8        I804       Education            2000\n",
      "9        I455        Consumer            1800\n",
      "10       I835         Finance            1500\n",
      "11       I398           Other            3125\n",
      "12       I688  Transportation            1091\n",
      "13       I686  Transportation            4123\n",
      "14       I243           Media            1200\n",
      "15       I633     Real Estate            2545\n",
      "16       I987  Transportation            7222\n",
      "17       I485          Retail          392000\n",
      "18       I875        Consumer           73615\n",
      "19       I711           Other           12500\n",
      "20       I813        Hardware           48000\n",
      "21       I844           Other            8667\n",
      "22       I546          Retail           12500\n",
      "23       I171         Finance           28571\n",
      "24       I644        Consumer          200000\n",
      "25       I398           Other          200000\n",
      "26       I317            Food           20833\n",
      "27       I498  Infrastructure           82000\n",
      "28       I235           Media           10000\n",
      "29       I958              HR           17500\n",
      "30       I125          Retail           17400\n"
     ]
    }
   ],
   "source": [
    "industry_data_modified = industry_data.rename(columns={'IndustryID': 'IndustryID', 'Description': 'IndustryType', 'TotalEmployee': 'TotalWorkForce'})\n",
    "\n",
    "print(industry_data_modified)"
   ]
  },
  {
   "cell_type": "code",
   "execution_count": 26,
   "id": "2481ffe4",
   "metadata": {},
   "outputs": [
    {
     "name": "stdout",
     "output_type": "stream",
     "text": [
      "      IndustryType IndustryID  TotalWorkForce\n",
      "0         Consumer       I455          275415\n",
      "1        Education       I804            2000\n",
      "2           Energy       I434            3500\n",
      "3          Finance       I835           30071\n",
      "4             Food       I317           20833\n",
      "5               HR       I958           17500\n",
      "6         Hardware       I813           48000\n",
      "7   Infrastructure       I498           82000\n",
      "8            Media       I243           11200\n",
      "9            Other       I078          242497\n",
      "10     Real Estate       I633            2545\n",
      "11          Retail       I395          423945\n",
      "12        Security       I890            2000\n",
      "13  Transportation       I424           32938\n",
      "14          Travel       I522            3125\n"
     ]
    }
   ],
   "source": [
    "industry_combined = industry_data_modified.groupby('IndustryType', as_index=False).agg({'IndustryID': 'first', 'TotalWorkForce': 'sum'})\n",
    "\n",
    "print(industry_combined)"
   ]
  },
  {
   "cell_type": "code",
   "execution_count": 27,
   "id": "4cbaa4a3",
   "metadata": {},
   "outputs": [
    {
     "name": "stdout",
     "output_type": "stream",
     "text": [
      "      IndustryType IndustryID  TotalWorkForce IndustryCode\n",
      "0         Consumer       I455          275415      IC00812\n",
      "1        Education       I804            2000      IC00044\n",
      "2           Energy       I434            3500      IC00078\n",
      "3          Finance       I835           30071      IC00990\n",
      "4             Food       I317           20833      IC00343\n",
      "5               HR       I958           17500      IC00009\n",
      "6         Hardware       I813           48000      IC00302\n",
      "7   Infrastructure       I498           82000      IC00176\n",
      "8            Media       I243           11200      IC00757\n",
      "9            Other       I078          242497      IC00153\n",
      "10     Real Estate       I633            2545      IC00362\n",
      "11          Retail       I395          423945      IC00719\n",
      "12        Security       I890            2000      IC00174\n",
      "13  Transportation       I424           32938      IC00826\n",
      "14          Travel       I522            3125      IC00269\n"
     ]
    }
   ],
   "source": [
    "row_num = len(industry_combined)\n",
    "\n",
    "industry_code = ['IC' + str(np.random.randint(1, 1000)).zfill(5) for _ in range(row_num)]\n",
    "\n",
    "industry_map = dict(zip(industry_combined['IndustryType'], industry_code))\n",
    "\n",
    "industry_combined['IndustryCode'] = industry_combined['IndustryType'].map(industry_map)\n",
    "\n",
    "print(industry_combined)\n"
   ]
  },
  {
   "cell_type": "code",
   "execution_count": 28,
   "id": "f139b0f1",
   "metadata": {},
   "outputs": [],
   "source": [
    "industry_combined.to_csv('industry_table.csv', index=False)"
   ]
  },
  {
   "cell_type": "code",
   "execution_count": null,
   "id": "1af5ad53",
   "metadata": {},
   "outputs": [],
   "source": []
  }
 ],
 "metadata": {
  "kernelspec": {
   "display_name": "Python 3 (ipykernel)",
   "language": "python",
   "name": "python3"
  },
  "language_info": {
   "codemirror_mode": {
    "name": "ipython",
    "version": 3
   },
   "file_extension": ".py",
   "mimetype": "text/x-python",
   "name": "python",
   "nbconvert_exporter": "python",
   "pygments_lexer": "ipython3",
   "version": "3.11.5"
  }
 },
 "nbformat": 4,
 "nbformat_minor": 5
}
