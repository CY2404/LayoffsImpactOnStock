{
 "cells": [
  {
   "cell_type": "code",
   "execution_count": null,
   "id": "2d6d0e2f",
   "metadata": {},
   "outputs": [],
   "source": [
    "df = pd.read_excel(r'/Users/kanimozhivelusamy/Downloads/tech_layoffs.xlsx')\n",
    "df.head()\n",
    "\n",
    "df['Date_layoffs'] = pd.to_datetime(df['Date_layoffs'])\n",
    "df_filtered = df[(df['Date_layoffs'].dt.year >= 2022) & (df['Date_layoffs'].dt.year <= 2024) & (df['Country'] == 'USA')]\n",
    "#print(df_filtered)\n",
    "df_filtered.to_csv('df_2022_to_2024_layoffs_USA_filtered.csv', index=False)\n",
    "\n",
    "\n",
    "layoff_df = pd.read_csv(r'/Users/kanimozhivelusamy/Downloads/df_2022_to_2024_layoffs_USA_filtered.csv')\n",
    "company_names_df = pd.read_excel(r'/Users/kanimozhivelusamy/Downloads/Company_2024.xlsx')\n",
    "company_names_list = company_names_df['Company'].tolist()\n",
    "filtered_layoff_df = layoff_df[layoff_df['Company'].isin(company_names_list)]\n",
    "filtered_layoff_df.to_csv('filtered_layoff_details_1.csv', index=False)\n"
   ]
  },
  {
   "cell_type": "code",
   "execution_count": null,
   "id": "1eb7e821",
   "metadata": {},
   "outputs": [],
   "source": [
    "industry_data_modified = industry_data.rename(columns={'IndustryID': 'IndustryID', 'Description': 'IndustryType', 'TotalEmployee': 'TotalWorkForce'})\n",
    "#print(industry_data_modified)\n",
    "industry_combined = industry_data_modified.groupby('IndustryType', as_index=False).agg({'IndustryID': 'first', 'TotalWorkForce': 'sum'})\n",
    "#print(industry_combined)\n",
    "row_num = len(industry_combined)\n",
    "industry_code = ['IC' + str(np.random.randint(1, 1000)).zfill(5) for _ in range(row_num)]\n",
    "industry_map = dict(zip(industry_combined['IndustryType'], industry_code))\n",
    "industry_combined['IndustryCode'] = industry_combined['IndustryType'].map(industry_map)\n",
    "industry_combined.to_csv('industry_table.csv', index=False)"
   ]
  },
  {
   "cell_type": "code",
   "execution_count": null,
   "id": "d1d38931",
   "metadata": {},
   "outputs": [],
   "source": [
    "region_data = df[['RegionID', 'Location', 'TotalEmployee']]\n",
    "#print(region_data)\n",
    "row_num = len(region_combined)\n",
    "region_code = ['RC' + str(np.random.randint(1, 100)).zfill(2) for _ in range(row_num)]\n",
    "region_map = dict(zip(region_combined['RegionID'], region_code))\n",
    "region_combined['RegionCode'] = region_combined['RegionID'].map(region_map)\n",
    "region_combined.to_csv('region_table.csv', index=False)"
   ]
  },
  {
   "cell_type": "code",
   "execution_count": null,
   "id": "866596dd",
   "metadata": {},
   "outputs": [],
   "source": [
    "company_table = pd.read_csv(r'/Users/kanimozhivelusamy/Downloads/DAMG 7275/ProjectP3/company_table.csv')\n",
    "company_year = pd.read_csv(r'/Users/kanimozhivelusamy/Downloads/DAMG 7275/ProjectP3/company_year.csv')\n",
    "merged_data = pd.merge(company_table, company_year, on='CompanyName')\n",
    "# Print the merged data\n",
    "#print(merged_data)\n",
    "company_region = merged_data.rename(columns={'RegionID': 'RegionID', 'CompanyID': 'CompanyID', 'FoundedIn': 'StartYear'})\n",
    "#print(company_region)\n",
    "company_region_table = company_region[['RegionID', 'CompanyID', 'StartYear']]\n",
    "company_region_table.to_csv('company_region_table.csv', index=False)"
   ]
  },
  {
   "cell_type": "code",
   "execution_count": null,
   "id": "6a8c350e",
   "metadata": {},
   "outputs": [],
   "source": [
    "layoff_events_data = []\n",
    "for company_id, layoff_date in layoff_dates.items():\n",
    "    event_data = {\n",
    "        \"EventID\": fake.unique.random_int(min=1000, max=9999),\n",
    "        \"Date\": layoff_date,\n",
    "        \"Type\": layoff_types[company_id], \n",
    "        \"CompanyID\": company_id\n",
    "    }\n",
    "    layoff_events_data.append(event_data)\n",
    "\n",
    "df_layoff_events = pd.DataFrame(layoff_events_data)\n",
    "print(df_layoff_events.head())\n",
    "csv_file_path = 'C:/Users/teyal/Downloads/layoff_table.csv'\n",
    "df_layoff_events.to_csv(csv_file_path, index=False)"
   ]
  },
  {
   "cell_type": "code",
   "execution_count": null,
   "id": "9cef12ee",
   "metadata": {},
   "outputs": [],
   "source": []
  }
 ],
 "metadata": {
  "kernelspec": {
   "display_name": "Python 3 (ipykernel)",
   "language": "python",
   "name": "python3"
  },
  "language_info": {
   "codemirror_mode": {
    "name": "ipython",
    "version": 3
   },
   "file_extension": ".py",
   "mimetype": "text/x-python",
   "name": "python",
   "nbconvert_exporter": "python",
   "pygments_lexer": "ipython3",
   "version": "3.11.5"
  }
 },
 "nbformat": 4,
 "nbformat_minor": 5
}
